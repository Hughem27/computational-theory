{
 "cells": [
  {
   "cell_type": "code",
   "execution_count": 143,
   "metadata": {},
   "outputs": [],
   "source": [
    "import unittest"
   ]
  },
  {
   "cell_type": "markdown",
   "metadata": {},
   "source": [
    "# Task 1: Binary Representations\n",
    "This notebook implements the required bitwise functions as per **FIPS 180-4** as stated in the brief https://github.com/ianmcloughlin/computational_theory/blob/main/assessment/tasks.md\n",
    "- **'rotl(x, n)'**: Left rotates bits in a 32-bit unsigned integer.\n",
    "- **'rotr(x, n)'**: Right rotates bits in a 32-bit unsigned integer.\n",
    "- **'ch(x, y, z)'**: Chooses bits based on 'x' values.\n",
    "- **'maj(x, y, z)'**: Computes the bitwise majority vote.\n"
   ]
  },
  {
   "cell_type": "code",
   "execution_count": null,
   "metadata": {},
   "outputs": [
    {
     "name": "stdout",
     "output_type": "stream",
     "text": [
      "rotl(0b10110011, 2): 0b11001100\n",
      "rotr(0b10110011, 2): 0b11101100\n"
     ]
    }
   ],
   "source": [
    "def rotl(x, n=1):\n",
    "    # Rotates the bits in a 32-bit unsigned integer to the left n places.\n",
    "    x = x & 0xFFFFFFFF  # Ensure x is treated as 32-bit\n",
    "    return ((x << n) | (x >> (32 - n))) & 0xFF  # Force 8-bit output for small numbers\n",
    "\n",
    "def rotr(x, n=1):\n",
    "    # Rotate bits in an 8-bit unsigned integer to the right by n places.\n",
    "    x = x & 0xFF  # Ensure x is treated as 8-bit\n",
    "    return ((x >> n) | (x << (8 - n))) & 0xFF  # Ensure result stays 8-bit\n",
    "\n",
    "# Test \n",
    "x = 0b10110011  # 179 in decimal\n",
    "\n",
    "# Example\n",
    "print(f\"rotl(0b10110011, 2): {bin(rotl(x, 2))}\")\n",
    "print(f\"rotr(0b10110011, 2): {bin(rotr(x, 2))}\")\n"
   ]
  },
  {
   "cell_type": "markdown",
   "metadata": {},
   "source": [
    "## Implementing 'ch' (Choose Function)\n",
    "The function ch(x, y, z) that chooses the bits from y where x has bits set to 1 and bits in z where x has bits set to 0.\n"
   ]
  },
  {
   "cell_type": "code",
   "execution_count": null,
   "metadata": {},
   "outputs": [
    {
     "name": "stdout",
     "output_type": "stream",
     "text": [
      "ch(0b10110011, 0b11001100, 0b01101010): 0b11001000\n"
     ]
    }
   ],
   "source": [
    "def ch(x, y, z):\n",
    "    # Choose bits from y where x has 1s and from z where x has 0s.\n",
    "    return (x & y) | ((~x & 0xFF) & z)\n",
    "\n",
    "# Test case\n",
    "x = 0b10110011  # 179\n",
    "y = 0b11001100  # 204\n",
    "z = 0b01101010  # 106\n",
    "\n",
    "print(f\"ch(0b10110011, 0b11001100, 0b01101010): {bin(ch(x, y, z))}\")"
   ]
  },
  {
   "cell_type": "markdown",
   "metadata": {},
   "source": [
    "## Implementing 'maj' (Majority Function)\n",
    "The 'maj' function outputs '1' where at least two of 'x', 'y', and 'z' have '1's.\n"
   ]
  },
  {
   "cell_type": "code",
   "execution_count": null,
   "metadata": {},
   "outputs": [
    {
     "name": "stdout",
     "output_type": "stream",
     "text": [
      "maj(0b10110011, 0b11001100, 0b01101010): 0b11101010\n"
     ]
    }
   ],
   "source": [
    "def maj(x, y, z):\n",
    "    # The function maj(x, y, z) which takes a majority vote of the bits in x, y, and z.\n",
    "    return (x & y) ^ (x & z) ^ (y & z)\n",
    "\n",
    "# Test case\n",
    "print(f\"maj(0b10110011, 0b11001100, 0b01101010): {bin(maj(x, y, z))}\")"
   ]
  },
  {
   "cell_type": "markdown",
   "metadata": {},
   "source": [
    "## Unit Tests"
   ]
  },
  {
   "cell_type": "code",
   "execution_count": 147,
   "metadata": {},
   "outputs": [
    {
     "name": "stderr",
     "output_type": "stream",
     "text": [
      "....\n",
      "----------------------------------------------------------------------\n",
      "Ran 4 tests in 0.002s\n",
      "\n",
      "OK\n"
     ]
    },
    {
     "data": {
      "text/plain": [
       "<unittest.main.TestProgram at 0x2abece0c590>"
      ]
     },
     "execution_count": 147,
     "metadata": {},
     "output_type": "execute_result"
    }
   ],
   "source": [
    "class TestBitwiseFunctions(unittest.TestCase):\n",
    "    def test_rotl(self):\n",
    "        self.assertEqual(rotl(0b10110011, 2), 0b11001100)  # Expected: 204\n",
    "        self.assertEqual(rotl(0b00000001, 1), 0b00000010)\n",
    "\n",
    "    def test_rotr(self):\n",
    "        self.assertEqual(rotr(0b10110011, 2), 0b11101100)  # Expected: 236\n",
    "        self.assertEqual(rotr(0b00000010, 1), 0b00000001)\n",
    "\n",
    "    def test_ch(self):\n",
    "       self.assertEqual(ch(0b10110011, 0b11001100, 0b01101010), 0b11001000)  # Expected: 200\n",
    "\n",
    "    def test_maj(self):\n",
    "        self.assertEqual(maj(0b10110011, 0b11001100, 0b01101010), 0b11101010)  # Expected: Already correct\n",
    "\n",
    "unittest.main(argv=[''], exit=False)\n"
   ]
  }
 ],
 "metadata": {
  "kernelspec": {
   "display_name": "base",
   "language": "python",
   "name": "python3"
  },
  "language_info": {
   "codemirror_mode": {
    "name": "ipython",
    "version": 3
   },
   "file_extension": ".py",
   "mimetype": "text/x-python",
   "name": "python",
   "nbconvert_exporter": "python",
   "pygments_lexer": "ipython3",
   "version": "3.12.7"
  }
 },
 "nbformat": 4,
 "nbformat_minor": 2
}
