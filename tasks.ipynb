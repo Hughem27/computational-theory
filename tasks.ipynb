{
 "cells": [
  {
   "cell_type": "code",
   "execution_count": 12,
   "metadata": {},
   "outputs": [],
   "source": [
    "import unittest"
   ]
  },
  {
   "cell_type": "markdown",
   "metadata": {},
   "source": [
    "# Task 1: Binary Representations\n",
    "This notebook implements the required bitwise functions as per **FIPS 180-4** as stated in the brief https://github.com/ianmcloughlin/computational_theory/blob/main/assessment/tasks.md\n",
    "- **'rotl(x, n)'**: Left rotates bits in a 32-bit unsigned integer.\n",
    "- **'rotr(x, n)'**: Right rotates bits in a 32-bit unsigned integer.\n",
    "- **'ch(x, y, z)'**: Chooses bits based on 'x' values.\n",
    "- **'maj(x, y, z)'**: Computes the bitwise majority vote.\n"
   ]
  },
  {
   "cell_type": "markdown",
   "metadata": {},
   "source": [
    "## Task 1 Research"
   ]
  },
  {
   "cell_type": "markdown",
   "metadata": {},
   "source": [
    "**Binary Representation** is a way of representing numbers by using the values 0 or 1, hence the \"bi\" in binary. Binary representation is the bread and butter of computing. It is used in circuitry where voltage levels are used to represent either 0 or 1. Each digit is known as a \"bit\". Low voltage is represented by 0 and high voltage by 1. 8 bits together are known as a \"_byte_\".\n",
    "\n",
    "**Bitwise Rotations**\n",
    "Sometimes also know as circular shifts, bitwise rotations are where a bit may be shifted from its current position to a different position. In a \"Left Rotation\" the bit on the left side is shifted to the outer right side.\n",
    "\n",
    "**Example of ROL where** ```n``` **is 1**\n",
    "\n",
    "| Binary | Decimal |\n",
    "|----------|----------|\n",
    "| 10110011 | 179 in decimal. | \n",
    "| 01100111 | 103 in decimal.  | \n",
    "\n",
    "<u>1</u>0110011 => 0110011<u>1</u>\n",
    "\n",
    "**Example of ROR where** ```n``` **is 1**\n",
    "\n",
    "| Binary | Decimal |\n",
    "|----------|----------|\n",
    "| 10110011 | 179 in decimal. | \n",
    "| 11011001 | 217 in decimal.  | \n",
    "\n",
    "1011001<u>1</u> = > <u>1</u>1011001\n",
    "\n",
    "So to summarize the bits are shifting by ```n``` positions, in the direction of the rotation (if its a right rotation the bits shift right so therefore the bits at the \"end\" of the right side will \"fall off\" but will be rotated back to the left hand side.)\n"
   ]
  },
  {
   "cell_type": "markdown",
   "metadata": {},
   "source": [
    "## Task 1 Code"
   ]
  },
  {
   "cell_type": "code",
   "execution_count": null,
   "metadata": {},
   "outputs": [
    {
     "name": "stdout",
     "output_type": "stream",
     "text": [
      "179\n",
      "10110011\n",
      "11001110\n",
      "Unsigned Integer: 179\n",
      "Un-rotated Binary: 10110011\n",
      "ROTL by 2: 11001110\n"
     ]
    }
   ],
   "source": [
    "# ROTL - Bitwise rotation left\n",
    "def rotl(x, n=1):    \n",
    "    x = x & 0xFF  # Ensure 8-bit input\n",
    "    rotated = ((x << n) & 0xFF) | (x >> (8 - n))  # Perform 8 bit rotation L\n",
    "    return format(rotated, '08b')  # Format the return to be 8 bit binary string\n",
    "\n",
    "# Example:\n",
    "binary_number = 0b10110011  # 179 in decimal\n",
    "rotated_result = rotl(binary_number, 2) \n",
    "\n",
    "print(f\"Unsigned Integer: {binary_number}\") # Print the unsigned integer passed in\n",
    "print(f\"Un-rotated Binary: {format(binary_number, '08b')}\")\n",
    "print(f\"ROTL by 2: {rotated_result}\")  \n"
   ]
  },
  {
   "cell_type": "markdown",
   "metadata": {},
   "source": [
    "- As we can see from the above output for the ROTL the bits were shifted left by 2 positions. \n",
    "- The bits on the left hand side that fell off are reinserted on the right hand side. \n",
    "\n",
    "**What happened?**\n",
    "\n",
    "An 8 bit unsigned integer is passed in ```179``` this converts to ```101100111``` in binary. <br>\n",
    "Original Binary: ```10110011``` <br>\n",
    "After ROTL: ```11001110``` <br>\n",
    "<u>10</u>110011 =>\n",
    "110011<u>10</u>\n"
   ]
  },
  {
   "cell_type": "code",
   "execution_count": null,
   "metadata": {},
   "outputs": [
    {
     "name": "stdout",
     "output_type": "stream",
     "text": [
      "Unsigned Integer: 179\n",
      "Un-rotated Binary: 10110011\n",
      "ROTR by 2: 11101100\n"
     ]
    }
   ],
   "source": [
    "# ROTR - Bitwise rotation right\n",
    "def rotr(x, n=1):    \n",
    "    x = x & 0xFF  # Ensure 8-bit input\n",
    "    rotated = ((x >> n) | (x << (8 - n))) & 0xFF\n",
    "    return format(rotated, '08b')  # Format the return to be 8 bit binary string\n",
    "\n",
    "# Example:\n",
    "binary_number = 0b10110011  # 179 in decimal\n",
    "rotated_result = rotr(binary_number, 2) \n",
    "\n",
    "print(f\"Unsigned Integer: {binary_number}\")\n",
    "print(f\"Un-rotated Binary: {format(binary_number, '08b')}\")\n",
    "print(f\"ROTR by 2: {rotated_result}\")  \n"
   ]
  },
  {
   "cell_type": "markdown",
   "metadata": {},
   "source": [
    "## Implementing 'ch' (Choose Function)\n",
    "The function ch(x, y, z) that chooses the bits from y where x has bits set to 1 and bits in z where x has bits set to 0.\n"
   ]
  },
  {
   "cell_type": "code",
   "execution_count": 14,
   "metadata": {},
   "outputs": [
    {
     "name": "stdout",
     "output_type": "stream",
     "text": [
      "ch(0b10110011, 0b11001100, 0b01101010): 0b11001000\n"
     ]
    }
   ],
   "source": [
    "def ch(x, y, z):\n",
    "    # Choose bits from y where x has 1s and from z where x has 0s.\n",
    "    return (x & y) | ((~x & 0xFF) & z)\n",
    "\n",
    "# Test case\n",
    "x = 0b10110011  # 179\n",
    "y = 0b11001100  # 204\n",
    "z = 0b01101010  # 106\n",
    "\n",
    "print(f\"ch(0b10110011, 0b11001100, 0b01101010): {bin(ch(x, y, z))}\")"
   ]
  },
  {
   "cell_type": "markdown",
   "metadata": {},
   "source": [
    "## Implementing 'maj' (Majority Function)\n",
    "The 'maj' function outputs '1' where at least two of 'x', 'y', and 'z' have '1's.\n"
   ]
  },
  {
   "cell_type": "code",
   "execution_count": 15,
   "metadata": {},
   "outputs": [
    {
     "name": "stdout",
     "output_type": "stream",
     "text": [
      "maj(0b10110011, 0b11001100, 0b01101010): 0b11101010\n"
     ]
    }
   ],
   "source": [
    "def maj(x, y, z):\n",
    "    # The function maj(x, y, z) which takes a majority vote of the bits in x, y, and z.\n",
    "    return (x & y) ^ (x & z) ^ (y & z)\n",
    "\n",
    "# Test case\n",
    "print(f\"maj(0b10110011, 0b11001100, 0b01101010): {bin(maj(x, y, z))}\")"
   ]
  },
  {
   "cell_type": "markdown",
   "metadata": {},
   "source": [
    "## Unit Tests"
   ]
  },
  {
   "cell_type": "code",
   "execution_count": null,
   "metadata": {},
   "outputs": [
    {
     "name": "stderr",
     "output_type": "stream",
     "text": [
      "....\n",
      "----------------------------------------------------------------------\n",
      "Ran 4 tests in 0.003s\n",
      "\n",
      "OK\n"
     ]
    },
    {
     "data": {
      "text/plain": [
       "<unittest.main.TestProgram at 0x213483dfd70>"
      ]
     },
     "execution_count": 16,
     "metadata": {},
     "output_type": "execute_result"
    }
   ],
   "source": [
    "import unittest\n",
    "\n",
    "class TestBitwiseFunctions(unittest.TestCase):\n",
    "    def test_rotl(self):\n",
    "        self.assertEqual(rotl(0b10110011, 2), 0b11001100)  # Expected: 204\n",
    "        self.assertEqual(rotl(0b00000001, 1), 0b00000010)\n",
    "\n",
    "    def test_rotr(self):\n",
    "        self.assertEqual(rotr(0b10110011, 2), 0b11101100)  # Expected: 236\n",
    "        self.assertEqual(rotr(0b00000010, 1), 0b00000001)\n",
    "\n",
    "    def test_ch(self):\n",
    "       self.assertEqual(ch(0b10110011, 0b11001100, 0b01101010), 0b11001000)  # Expected: 200\n",
    "\n",
    "    def test_maj(self):\n",
    "        self.assertEqual(maj(0b10110011, 0b11001100, 0b01101010), 0b11101010)  # Expected: Already correct\n",
    "\n",
    "unittest.main(argv=[''], exit=False)\n"
   ]
  },
  {
   "cell_type": "markdown",
   "metadata": {},
   "source": [
    "# Task 2"
   ]
  },
  {
   "cell_type": "markdown",
   "metadata": {},
   "source": [
    "**Task 2:** _The following hash function is from The C Programming Language by Brian Kernighan and Dennis Ritchie.\n",
    "Convert it to Python, test it, and suggest why the values 31 and 101 are used._\n",
    "\n",
    "```\n",
    " unsigned hash(char *s) {\n",
    "    unsigned hashval;\n",
    "    for (hashval = 0; *s != '\\0'; s++)\n",
    "        hashval = *s + 31 * hashval;\n",
    "    return hashval % 101;\n",
    "} \n",
    "```"
   ]
  },
  {
   "cell_type": "code",
   "execution_count": 17,
   "metadata": {},
   "outputs": [],
   "source": [
    "# Hash function converted to python\n",
    "def hash_function(s: str) -> int:\n",
    "    hashval = 0\n",
    "    for char in s:\n",
    "        hashval = ord(char) + 31 * hashval\n",
    "    return hashval % 101\n"
   ]
  },
  {
   "cell_type": "markdown",
   "metadata": {},
   "source": [
    "# Resources\n",
    "\n",
    "## Task 1 \n",
    "Binary Representation | https://wp.kntu.ac.ir/dfard/ebook/lc_ds1/M.%20Morris%20R.%20Mano,%20Charles%20R.%20Kime,%20Tom%20Martin%20-%20Logic%20and%20computer%20design%20fundamentals-Prentice%20Hall%20(2015).pdf"
   ]
  }
 ],
 "metadata": {
  "kernelspec": {
   "display_name": "base",
   "language": "python",
   "name": "python3"
  },
  "language_info": {
   "codemirror_mode": {
    "name": "ipython",
    "version": 3
   },
   "file_extension": ".py",
   "mimetype": "text/x-python",
   "name": "python",
   "nbconvert_exporter": "python",
   "pygments_lexer": "ipython3",
   "version": "3.12.7"
  }
 },
 "nbformat": 4,
 "nbformat_minor": 2
}
