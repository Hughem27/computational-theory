{
 "cells": [
  {
   "cell_type": "markdown",
   "metadata": {},
   "source": [
    "# Task 1: Binary Representations\n",
    "This notebook implements the required bitwise functions as per **FIPS 180-4** as stated in the brief https://github.com/ianmcloughlin/computational_theory/blob/main/assessment/tasks.md\n",
    "- **`rotl(x, n)`**: Left rotates bits in a 32-bit unsigned integer.\n",
    "- **`rotr(x, n)`**: Right rotates bits in a 32-bit unsigned integer.\n",
    "- **`ch(x, y, z)`**: Chooses bits based on `x` values.\n",
    "- **`maj(x, y, z)`**: Computes the bitwise majority vote.\n"
   ]
  },
  {
   "cell_type": "code",
   "execution_count": null,
   "metadata": {},
   "outputs": [],
   "source": [
    "def rotl(x, n=1):\n",
    "    # Rotate bits in a 32-bit unsigned integer to the left by n places.\n",
    "    return ((x << n) & 0xFFFFFFFF) | (x >> (32 - n))\n",
    "\n",
    "def rotr(x, n=1):\n",
    "    # Rotate bits in a 32-bit unsigned integer to the right by n places.\n",
    "    return (x >> n) | ((x << (32 - n)) & 0xFFFFFFFF)\n",
    "\n",
    "# Test \n",
    "x = 0b10110011  # 179 in decimal\n",
    "\n",
    "print(f\"rotl(0b10110011, 2): {bin(rotl(x, 2))}\")\n",
    "print(f\"rotr(0b10110011, 2): {bin(rotr(x, 2))}\")\n"
   ]
  }
 ],
 "metadata": {
  "kernelspec": {
   "display_name": "base",
   "language": "python",
   "name": "python3"
  },
  "language_info": {
   "codemirror_mode": {
    "name": "ipython",
    "version": 3
   },
   "file_extension": ".py",
   "mimetype": "text/x-python",
   "name": "python",
   "nbconvert_exporter": "python",
   "pygments_lexer": "ipython3",
   "version": "3.12.7"
  }
 },
 "nbformat": 4,
 "nbformat_minor": 2
}
