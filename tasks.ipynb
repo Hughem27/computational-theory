{
 "cells": [
  {
   "cell_type": "markdown",
   "metadata": {},
   "source": [
    "# Tasks Notebook"
   ]
  },
  {
   "cell_type": "markdown",
   "metadata": {},
   "source": [
    "## Task 1"
   ]
  },
  {
   "cell_type": "code",
   "execution_count": 6,
   "metadata": {},
   "outputs": [],
   "source": [
    "import unittest"
   ]
  },
  {
   "cell_type": "markdown",
   "metadata": {},
   "source": [
    "### Task 1 Statement: Binary Representations\n",
    "This notebook implements the required bitwise functions as per **FIPS 180-4** as stated in the brief https://github.com/ianmcloughlin/computational_theory/blob/main/assessment/tasks.md\n",
    "- **'rotl(x, n)'**: Left rotates bits in a 32-bit unsigned integer.\n",
    "- **'rotr(x, n)'**: Right rotates bits in a 32-bit unsigned integer.\n",
    "- **'ch(x, y, z)'**: Chooses bits based on 'x' values.\n",
    "- **'maj(x, y, z)'**: Computes the bitwise majority vote.\n"
   ]
  },
  {
   "cell_type": "markdown",
   "metadata": {},
   "source": [
    "### Task 1 Research"
   ]
  },
  {
   "cell_type": "markdown",
   "metadata": {},
   "source": [
    "**Binary Representation** is a way of representing numbers by using the values 0 or 1, hence the \"bi\" in binary. Binary representation is the bread and butter of computing. It is used in circuitry where voltage levels are used to represent either 0 or 1. Each digit is known as a \"bit\". Low voltage is represented by 0 and high voltage by 1. 8 bits together are known as a \"_byte_\". <sup>[[1]](#reference-1)</sup>\n",
    "\n",
    "**Bitwise Rotations**\n",
    "Sometimes also know as circular shifts, bitwise rotations are where a bit may be shifted from its current position to a different position in the direction of the rotation. In a \"Left Rotation\" the bits are all shifted ```n``` positions left, bits on the outermost left side are rotated to the outer right side.\n",
    "\n",
    "**Example of ROL where** ```n``` **is 1**\n",
    "\n",
    "| Binary | Decimal |\n",
    "|----------|----------|\n",
    "| 10110011 | 179 in decimal. | \n",
    "| 01100111 | 103 in decimal.  | \n",
    "\n",
    "<u>1</u>0110011 => 0110011<u>1</u>\n",
    "\n",
    "**Example of ROR where** ```n``` **is 1**\n",
    "\n",
    "| Binary | Decimal |\n",
    "|----------|----------|\n",
    "| 10110011 | 179 in decimal. | \n",
    "| 11011001 | 217 in decimal.  | \n",
    "\n",
    "1011001<u>1</u> = > <u>1</u>1011001\n",
    "\n",
    "So to summarize the bits are shifting by ```n``` positions, in the direction of the rotation (if its a right rotation the bits shift right so therefore the bits at the \"end\" of the right side will \"fall off\" but will be rotated back to the left hand side.)\n"
   ]
  },
  {
   "cell_type": "markdown",
   "metadata": {},
   "source": [
    "### Task 1 Code"
   ]
  },
  {
   "cell_type": "code",
   "execution_count": 1,
   "metadata": {},
   "outputs": [
    {
     "name": "stdout",
     "output_type": "stream",
     "text": [
      "ROTL Example\n",
      "Unsigned Integer: 179\n",
      "Un-rotated Binary: 10110011\n",
      "ROTL by 2 output: : 11001110\n",
      "\n",
      "ROTR Example\n",
      "Unsigned Integer: 179\n",
      "Un-rotated Binary: 10110011\n",
      "ROTR by 2 output: : 11001110\n"
     ]
    }
   ],
   "source": [
    "# 1. ROTL - Bitwise rotation left\n",
    "def rotl(x, n=1):  # x Is the unsigned integer to rotate, n is the number of bits to rotate by  \n",
    "    x = x & 0xFF  # Ensure 8-bit input\n",
    "    rotated = ((x << n) & 0xFF) | (x >> (8 - n))  # (x << n) & 0xFF) Shifts the bits to the left & keeps the result to 8 bits, discarding overflow bits\n",
    "    # (x >> (8 - n)) moves the \"fallen off\" bits to the  outer far right and keeps the result to 8 bits.\n",
    "    return format(rotated, '08b')  # Format the return to be 8 bit binary string\n",
    "\n",
    "# 2. ROTR - Bitwise rotation right\n",
    "def rotr(x, n=1):    \n",
    "    x = x & 0xFF  # Ensure 8-bit input\n",
    "    rotated = ((x >> n) | (x << (8 - n))) & 0xFF # Similar to before but the opposite direction\n",
    "    return format(rotated, '08b')  # Format the return to be 8 bit binary string\n",
    "\n",
    "# Examples:\n",
    "binary_number = 0b10110011  # 179 in decimal\n",
    "rotated_result = rotl(binary_number, 2) \n",
    "\n",
    "print(\"ROTL Example\")\n",
    "\n",
    "print(f\"Unsigned Integer: {binary_number}\") # Print the unsigned integer passed in\n",
    "print(f\"Un-rotated Binary: {format(binary_number, '08b')}\") # Print the binary representation of the integer\n",
    "print(f\"ROTL by 2 output: : {rotated_result}\\n\")  # Print the result of the rotation\n",
    "\n",
    "print(\"ROTR Example\")\n",
    "print(f\"Unsigned Integer: {binary_number}\") # Print the unsigned integer passed in\n",
    "print(f\"Un-rotated Binary: {format(binary_number, '08b')}\") # Print the binary representation of the integer\n",
    "print(f\"ROTR by 2 output: : {rotated_result}\")  # Print the result of the rotation\n",
    "\n"
   ]
  },
  {
   "cell_type": "markdown",
   "metadata": {},
   "source": [
    "**What happened?** <br>\n",
    "As we can see from the above output for the ROTL the bits were shifted left by 2 positions. \n",
    "The bits on the left hand side that fell off are reinserted on the right hand side. \n",
    "\n",
    "\n",
    "An 8 bit unsigned integer is passed in ```179``` this converts to ```101100111``` in binary. <br>\n",
    "Original Binary: ```10110011``` <br>\n",
    "After ROTL: ```11001110``` <br>\n",
    "<u>10</u>110011 =>\n",
    "110011<u>10</u>\n",
    "\n",
    "The same applies for ROTR in the a right direction.\n"
   ]
  },
  {
   "cell_type": "markdown",
   "metadata": {},
   "source": [
    "### Choose Function Research\n",
    "The Choose Function was designed for cryptography hash functions to help introduce non-linearity and bitwise diffusion while being computationally efficient.\n",
    "\n",
    "It works by selectively taking bits from x,y and z in a manner that is secure. By making miniscule changes to 'x' mean the output cannot be predicted. As it is only comprised of only bitwise operations 'AND, OR, XOR & NOT'. This makes it computationally efficient while also being straightforward to implement in software and hardware.\n",
    "\n",
    "The Choose function is the backbone for SHA-1 and the SHA-2 family cryptographic hashing functions. Essentially it mixes in data from y & z, which are controlled by x. It makes unpredictable cryptographic outputs, which improves security. It was first seen in 1993 when published by the National Security Agency.\n",
    "\n",
    "**How it works**\n",
    "\n",
    "The choose function works by where x has 1 bit, it replaces that bit with whatever value is in the same position in y. Where x has a 0 bit it assumes the value of the bit in the same position in z. \n",
    "\n"
   ]
  },
  {
   "cell_type": "markdown",
   "metadata": {},
   "source": [
    "### Implementing Choose Function\n",
    "The function ch(x, y, z) that chooses the bits from y where x has bits set to 1 and bits in z where x has bits set to 0.\n"
   ]
  },
  {
   "cell_type": "code",
   "execution_count": 2,
   "metadata": {},
   "outputs": [
    {
     "name": "stdout",
     "output_type": "stream",
     "text": [
      "ch(0b10110011, 0b11001100, 0b01101010): 0b11001000\n"
     ]
    }
   ],
   "source": [
    "# Choose Function\n",
    "def ch(x, y, z):\n",
    "    # Choose bits from y where x has 1s and from z where x has 0s.\n",
    "    return (x & y) | ((~x & 0xFF) & z)\n",
    "\n",
    "# Test case\n",
    "x = 0b10110011  # 179\n",
    "y = 0b11001100  # 204\n",
    "z = 0b01101010  # 106\n",
    "\n",
    "print(f\"ch(0b10110011, 0b11001100, 0b01101010): {bin(ch(x, y, z))}\")"
   ]
  },
  {
   "cell_type": "markdown",
   "metadata": {},
   "source": [
    "### Implementing 'maj' (Majority Function)\n",
    "The 'maj' function outputs '1' where at least two of 'x', 'y', and 'z' have '1's.\n"
   ]
  },
  {
   "cell_type": "code",
   "execution_count": 3,
   "metadata": {},
   "outputs": [
    {
     "name": "stdout",
     "output_type": "stream",
     "text": [
      "maj(0b10110011, 0b11001100, 0b01101010): 0b11101010\n"
     ]
    }
   ],
   "source": [
    "def maj(x, y, z):\n",
    "    # The function maj(x, y, z) which takes a majority vote of the bits in x, y, and z.\n",
    "    return (x & y) ^ (x & z) ^ (y & z)\n",
    "\n",
    "# Test case\n",
    "print(f\"maj(0b10110011, 0b11001100, 0b01101010): {bin(maj(x, y, z))}\")"
   ]
  },
  {
   "cell_type": "markdown",
   "metadata": {},
   "source": [
    "## Unit Tests"
   ]
  },
  {
   "cell_type": "code",
   "execution_count": 4,
   "metadata": {},
   "outputs": [],
   "source": [
    "# import unittest\n",
    "\n",
    "# class TestBitwiseFunctions(unittest.TestCase):\n",
    "#     def test_rotl(self):\n",
    "#         self.assertEqual(rotl(0b10110011, 2), 0b11001100)  # Expected: 204\n",
    "#         self.assertEqual(rotl(0b00000001, 1), 0b00000010)\n",
    "\n",
    "#     def test_rotr(self):\n",
    "#         self.assertEqual(rotr(0b10110011, 2), 0b11101100)  # Expected: 236\n",
    "#         self.assertEqual(rotr(0b00000010, 1), 0b00000001)\n",
    "\n",
    "#     def test_ch(self):\n",
    "#        self.assertEqual(ch(0b10110011, 0b11001100, 0b01101010), 0b11001000)  # Expected: 200\n",
    "\n",
    "#     def test_maj(self):\n",
    "#         self.assertEqual(maj(0b10110011, 0b11001100, 0b01101010), 0b11101010)  # Expected: Already correct\n",
    "\n",
    "# unittest.main(argv=[''], exit=False)\n"
   ]
  },
  {
   "cell_type": "markdown",
   "metadata": {},
   "source": [
    "# Task 2"
   ]
  },
  {
   "cell_type": "markdown",
   "metadata": {},
   "source": [
    "**Task 2:** _The following hash function is from The C Programming Language by Brian Kernighan and Dennis Ritchie.\n",
    "Convert it to Python, test it, and suggest why the values 31 and 101 are used._\n",
    "\n",
    "```\n",
    " unsigned hash(char *s) {\n",
    "    unsigned hashval;\n",
    "    for (hashval = 0; *s != '\\0'; s++)\n",
    "        hashval = *s + 31 * hashval;\n",
    "    return hashval % 101;\n",
    "} \n",
    "```\n",
    "**What:** The hash function takes a string like \"hello\" and turns it into a \"hash\" - a numeric hash  that is based off of the input and numbers set in the function from a fixed range. <br>\n",
    "**Why:** The output of the hash function (known as a hash), when stored as a numeric hash value, is quicker to process than a string. This is useful as it is good for fast look ups and insertions."
   ]
  },
  {
   "cell_type": "markdown",
   "metadata": {},
   "source": [
    "### Original Code Breakdown and Explanation\n",
    "The first line of the hash function is"
   ]
  },
  {
   "cell_type": "markdown",
   "metadata": {},
   "source": [
    "## Hash Function Breakdown\n",
    "The hash function creates a hash (the output of a 'hash function') by iterating over each character in the string:\n",
    "\n",
    "1. It converts the character to its ASCII value using `ord(char)`.\n",
    "2. It multiplies the current `hashval` by 31 (quite common number to see in hash functions).\n",
    "3. Adds the ASCII value to that product.\n",
    "4. After the loop, it returns the result of modulo 101 to keep the hash within a small fixed range (0 to 100).\n",
    "\n",
    "This is also similarly seen to Java's `String.hashCode()`<sup>[[3]](#reference-3)</sup>, but with a modulo step to constrain the output to within the 0-100 range.\n"
   ]
  },
  {
   "cell_type": "code",
   "execution_count": null,
   "metadata": {},
   "outputs": [
    {
     "name": "stdout",
     "output_type": "stream",
     "text": [
      "Input: 'hello'\n",
      "17\n",
      "====================================\n",
      "Input: 'world'\n",
      "34\n",
      "====================================\n",
      "Input: 'HELLO'\n",
      "11\n",
      "====================================\n",
      "Input: ''\n",
      "0\n",
      "====================================\n",
      "Input: 'a'\n",
      "97\n"
     ]
    }
   ],
   "source": [
    "# Hash function converted to python\n",
    "def hash_function(s: str) -> int:\n",
    "    hashval = 0\n",
    "    for char in s:\n",
    "        hashval = ord(char) + 31 * hashval\n",
    "    return hashval % 101\n",
    "\n",
    "\n",
    "# Test cases\n",
    "print(\"Input: 'hello'\") \n",
    "print(hash_function(\"hello\"))   \n",
    "print(\"====================================\") \n",
    "print(\"Input: 'world'\") \n",
    "print(hash_function(\"world\"))\n",
    "print(\"====================================\") \n",
    "print(\"Input: 'HELLO'\") \n",
    "print(hash_function(\"HELLO\"))\n",
    "print(\"====================================\") \n",
    "print(\"Input: ' '\") \n",
    "print(hash_function(\"\"))   \n",
    "print(\"====================================\") \n",
    "print(\"Input: 'a'\") \n",
    "print(hash_function(\"a\"))         \n"
   ]
  },
  {
   "cell_type": "markdown",
   "metadata": {},
   "source": [
    "### Output Breakdown\n",
    "So we can see when this hash function is given an input of hello. Firstly the function enters the loop. The ASCII letters of the string are taken into the function. The ASCII letters<sup>[[4]](#reference-4)</sup> for hello are:\n",
    "\n",
    "\n",
    "| Input     | ASCII  | \n",
    "|-----------|------- |\n",
    "| 'h'     | 104   | \n",
    "| 'e'     | 101   | \n",
    "| 'l'     | 108   | \n",
    "| 'l'     | 108   | \n",
    "| 'o'     | 111   | \n",
    "\n",
    "So the ASCII value of 'h' is 104. This is then added with the number set in the hash function, 31 in this case (31 is quite a common number to be used in hash functions as it is an odd prime number<sup>[[5]](#reference-5)</sup>, which provides more unique output hashes, while also being a small number doesn't require as much computational power.) The number set in the function is first multiplied by the current hashvalue (hashval) (which at the start is set to 0.) So the process looks like this\n",
    "\n",
    "So 104 + 31 * 0 = hashval = **104** (Following BIMDAS it ends up being 104 + 0, so 104.)\n",
    "\n",
    "Next for 'e'\n",
    "101 + 31 * 104 = **3325** = hashval (3325 is now the hashval)\n",
    "\n",
    "Next for 'l'\n",
    "108 + 31 * 3325 = **103183**\n",
    "\n",
    "Next for 'l' (x2)\n",
    "108 + 31 * 103183 = **3198781**\n",
    "\n",
    "Next for 'o'\n",
    "111 + 31 * 3198781 = **99162222**\n",
    "\n",
    "Now that all the characters have been iterated through, the current hashval is put through modulus <u>101</u> to bring the number back down to a smaller number.\n",
    "99162222 % 101 = **87**\n",
    "\n",
    "101 is another common number to see in hash functions as it is a prime number, which as mentioned about 31 helps provide a more uniform distribution, which in turn decreases the chance of mapping multiple strings to the same value.<sup>[[5]](#reference-5)\n",
    "\n",
    "\n",
    "\n",
    "\n"
   ]
  },
  {
   "cell_type": "markdown",
   "metadata": {},
   "source": [
    "# Resources\n",
    "\n",
    "## Task 1 \n",
    "Binary Representation | https://wp.kntu.ac.ir/dfard/ebook/lc_ds1/M.%20Morris%20R.%20Mano,%20Charles%20R.%20Kime,%20Tom%20Martin%20-%20Logic%20and%20computer%20design%20fundamentals-Prentice%20Hall%20(2015).pdf\n",
    "\n",
    "Choose Function | https://link.springer.com/chapter/10.1007/978-3-540-24654-1_13\n",
    "https://www.thepulsar.be/article/rsa-cryptography-implementation-tips/\n",
    "\n",
    "\n",
    "| Reference     | URL     | Usage | Relevance|\n",
    "|--------------|-------|-------|-|\n",
    "| Binary Representation | https://wp.kntu.ac.ir/dfard/ebook/lc_ds1/M.%20Morris%20R.%20Mano,%20Charles%20R.%20Kime,%20Tom%20Martin%20-%20Logic%20and%20computer%20design%20fundamentals-Prentice%20Hall%20(2015).pdf |[<a id=\"reference-1\">1</a>]<br> [<a id=\"reference-2\">2</a>]|\n",
    "| Java hashCode() | https://docs.oracle.com/javase/8/docs/api/java/lang/String.html#hashCode-- | [<a id=\"reference-3\">3</a>]  | Java has its own hashcode function that is part of the default library was adapted from __\"The C Programming Language\"__ |\n",
    "| ASCII Characters |https://www.ascii-code.com/ | [<a id=\"reference-4\">4</a>] | To reference the ASCII characters used in the hash code function |\n",
    "| Algorithms, Fourth Edition  |https://mrce.in/ebooks/Algorithms%204th%20Ed.pdf  | [<a id=\"reference-5\">5</a>] | Why modulus primes are used  |\n",
    "|  |  |  |\n",
    "|  |  |  |\n",
    "\n",
    "|  |  |  |\n",
    "\n",
    "\n",
    "\n",
    "\n",
    "\n"
   ]
  },
  {
   "cell_type": "code",
   "execution_count": null,
   "metadata": {},
   "outputs": [],
   "source": []
  },
  {
   "cell_type": "markdown",
   "metadata": {},
   "source": []
  }
 ],
 "metadata": {
  "kernelspec": {
   "display_name": "base",
   "language": "python",
   "name": "python3"
  },
  "language_info": {
   "codemirror_mode": {
    "name": "ipython",
    "version": 3
   },
   "file_extension": ".py",
   "mimetype": "text/x-python",
   "name": "python",
   "nbconvert_exporter": "python",
   "pygments_lexer": "ipython3",
   "version": "3.12.7"
  }
 },
 "nbformat": 4,
 "nbformat_minor": 2
}
